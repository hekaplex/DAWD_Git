{
 "cells": [
  {
   "cell_type": "code",
   "execution_count": 0,
   "metadata": {
    "application/vnd.databricks.v1+cell": {
     "cellMetadata": {},
     "inputWidgets": {},
     "nuid": "864e6026-09fc-426f-86e8-de41bc07d500",
     "showTitle": false,
     "tableResultSettingsMap": {},
     "title": ""
    }
   },
   "outputs": [],
   "source": [
    "CREATE OR REPLACE TABLE \n",
    "customers \n",
    "AS\n",
    "SELECT\n",
    "  customer_id2 AS customer_id,\n",
    "  tax_id,\n",
    "  tax_code,\n",
    "  customer_name3 AS customer_name,\n",
    "  state,\n",
    "  city,\n",
    "  postcode,\n",
    "  street,\n",
    "  number,\n",
    "  unit,\n",
    "  region,\n",
    "  district,\n",
    "  lon,\n",
    "  lat,\n",
    "  ship_to_address,\n",
    "  valid_from,\n",
    "  valid_to,\n",
    "  units_purchased,\n",
    "  loyalty_segment\n",
    "FROM\n",
    "  data\n",
    "WHERE\n",
    "  table_name1 IS NULL\n",
    "  AND table_name IS NULL;\n",
    "\n",
    "CREATE OR REPLACE TABLE sales AS\n",
    "SELECT\n",
    "  customer_id,\n",
    "  customer_name,\n",
    "  product_name,\n",
    "  order_date,\n",
    "  product_category,\n",
    "  product,\n",
    "  total_price\n",
    "FROM\n",
    "  data\n",
    "WHERE\n",
    "  table_name IS NOT NULL;"
   ]
  }
 ],
 "metadata": {
  "application/vnd.databricks.v1+notebook": {
   "computePreferences": null,
   "dashboards": [],
   "environmentMetadata": null,
   "language": "sql",
   "notebookMetadata": {
    "pythonIndentUnit": 4,
    "sqlQueryOptions": {
     "applyAutoLimit": true,
     "catalog": "labuser9215760_1740409368",
     "schema": "default"
    }
   },
   "notebookName": "01A Create Sales and Customers Tables.dbquery.ipynb",
   "widgets": {}
  },
  "language_info": {
   "name": "sql"
  }
 },
 "nbformat": 4,
 "nbformat_minor": 0
}
