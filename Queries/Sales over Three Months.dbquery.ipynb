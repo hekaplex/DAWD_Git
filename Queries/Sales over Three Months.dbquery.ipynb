{
 "cells": [
  {
   "cell_type": "code",
   "execution_count": 0,
   "metadata": {
    "application/vnd.databricks.v1+cell": {
     "cellMetadata": {},
     "inputWidgets": {},
     "nuid": "a75b9b19-0838-4c49-b6b4-a1f9580c965e",
     "showTitle": false,
     "tableResultSettingsMap": {},
     "title": ""
    }
   },
   "outputs": [],
   "source": [
    "SELECT\n",
    "    customer_name,\n",
    "    total_price AS Total_Sales,\n",
    "    date_format(order_date, \"MM\") AS Month,\n",
    "    product_category\n",
    "  FROM\n",
    "    sales\n",
    "  WHERE\n",
    "    order_date >= to_date('2019-08-01')\n",
    "  AND order_date <= to_date('2019-10-31');"
   ]
  }
 ],
 "metadata": {
  "application/vnd.databricks.v1+notebook": {
   "computePreferences": null,
   "dashboards": [],
   "environmentMetadata": null,
   "language": "sql",
   "notebookMetadata": {
    "sqlQueryOptions": {
     "applyAutoLimit": true,
     "catalog": "instructor",
     "schema": "dawd_v2"
    }
   },
   "notebookName": "Sales over Three Months.dbquery.ipynb",
   "widgets": {}
  },
  "language_info": {
   "name": "sql"
  }
 },
 "nbformat": 4,
 "nbformat_minor": 0
}
