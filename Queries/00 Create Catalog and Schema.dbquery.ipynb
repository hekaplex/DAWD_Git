{
 "cells": [
  {
   "cell_type": "code",
   "execution_count": 0,
   "metadata": {
    "application/vnd.databricks.v1+cell": {
     "cellMetadata": {},
     "inputWidgets": {},
     "nuid": "e52bd66d-b636-46c0-8d5e-e5c2eb109567",
     "showTitle": false,
     "tableResultSettingsMap": {},
     "title": ""
    }
   },
   "outputs": [],
   "source": [
    "-- SELECT current_user()\n",
    "\n",
    "--labuser8180506_1740074312\n",
    "\n",
    "CREATE CATALOG IF NOT EXISTS instructor;\n",
    "USE CATALOG instructor;\n",
    "CREATE SCHEMA IF NOT EXISTS dawd_v2;"
   ]
  }
 ],
 "metadata": {
  "application/vnd.databricks.v1+notebook": {
   "computePreferences": null,
   "dashboards": [],
   "environmentMetadata": null,
   "language": "sql",
   "notebookMetadata": {
    "sqlQueryOptions": {
     "applyAutoLimit": false,
     "catalog": "demo-catalog-us-west-2",
     "schema": "default"
    }
   },
   "notebookName": "00 Create Catalog and Schema.dbquery.ipynb",
   "widgets": {}
  },
  "language_info": {
   "name": "sql"
  }
 },
 "nbformat": 4,
 "nbformat_minor": 0
}
