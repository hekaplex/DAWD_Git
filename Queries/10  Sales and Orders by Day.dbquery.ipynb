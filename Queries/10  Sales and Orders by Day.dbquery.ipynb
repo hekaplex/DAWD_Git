{
 "cells": [
  {
   "cell_type": "code",
   "execution_count": 0,
   "metadata": {
    "application/vnd.databricks.v1+cell": {
     "cellMetadata": {},
     "inputWidgets": {},
     "nuid": "390d0027-a1da-441e-882e-1fba6b0c22c6",
     "showTitle": false,
     "tableResultSettingsMap": {},
     "title": ""
    }
   },
   "outputs": [],
   "source": [
    "WITH sales_data AS (\n",
    "  SELECT\n",
    "    date_format(order_date, \"dd\") AS day,\n",
    "    SUM(total_price) AS total_sales\n",
    "  FROM <catalog.schema.table>  -- Use sales table\n",
    "  GROUP BY day\n",
    "  ),\n",
    "orders_data AS (\n",
    "  SELECT\n",
    "    CASE \n",
    "      WHEN sales_orders.order_datetime <> '' \n",
    "      THEN DAY(FROM_UNIXTIME(sales_orders.order_datetime))\n",
    "      ELSE NULL \n",
    "    END as day,\n",
    "    COUNT(order_number) AS total_orders\n",
    "  FROM <catalog.schema.table> -- Use sales_orders table\n",
    "  GROUP BY day\n",
    ")\n",
    "SELECT\n",
    "  cast(s.day as INT),\n",
    "  s.total_sales,\n",
    "  o.total_orders\n",
    "FROM sales_data s\n",
    "JOIN orders_data o ON s.day = o.day\n",
    "ORDER BY s.day;"
   ]
  }
 ],
 "metadata": {
  "application/vnd.databricks.v1+notebook": {
   "computePreferences": null,
   "dashboards": [],
   "environmentMetadata": null,
   "language": "sql",
   "notebookMetadata": {
    "sqlQueryOptions": {
     "applyAutoLimit": true,
     "catalog": "dbacademy",
     "schema": "information_schema"
    }
   },
   "notebookName": "10  Sales and Orders by Day.dbquery.ipynb",
   "widgets": {}
  },
  "language_info": {
   "name": "sql"
  }
 },
 "nbformat": 4,
 "nbformat_minor": 0
}
