{
 "cells": [
  {
   "cell_type": "code",
   "execution_count": 0,
   "metadata": {
    "application/vnd.databricks.v1+cell": {
     "cellMetadata": {
      "byteLimit": 10485760,
      "rowLimit": 1000
     },
     "inputWidgets": {},
     "nuid": "d2c9788f-8950-4858-afa4-3b6ce92cf7a0",
     "showTitle": false,
     "tableResultSettingsMap": {},
     "title": ""
    }
   },
   "outputs": [],
   "source": [
    "--\n",
    "SELECT\n",
    "    customer_name, \n",
    "    total_price AS Total_Sales,\n",
    "    date_format(order_date, \"MM\") AS Month,\n",
    "    product_category\n",
    "  FROM\n",
    "    sales\n",
    "  WHERE\n",
    "    order_date >= to_date('2019-08-01')\n",
    "  AND order_date <= to_date('2019-10-31');\n",
    "  "
   ]
  }
 ],
 "metadata": {
  "application/vnd.databricks.v1+notebook": {
   "computePreferences": null,
   "dashboards": [],
   "environmentMetadata": null,
   "language": "sql",
   "notebookMetadata": {
    "pythonIndentUnit": 4,
    "sqlQueryOptions": {
     "applyAutoLimit": true,
     "catalog": "instructor",
     "schema": "dawd_v2"
    }
   },
   "notebookName": "07 Sales Over Three Months.dbquery.ipynb",
   "widgets": {}
  },
  "language_info": {
   "name": "sql"
  }
 },
 "nbformat": 4,
 "nbformat_minor": 0
}
