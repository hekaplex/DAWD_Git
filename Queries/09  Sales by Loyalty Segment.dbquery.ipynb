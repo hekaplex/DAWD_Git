{
 "cells": [
  {
   "cell_type": "code",
   "execution_count": 0,
   "metadata": {
    "application/vnd.databricks.v1+cell": {
     "cellMetadata": {},
     "inputWidgets": {},
     "nuid": "81c35cb4-d1d8-457f-9270-6206d506f5b2",
     "showTitle": false,
     "tableResultSettingsMap": {},
     "title": ""
    }
   },
   "outputs": [],
   "source": [
    "SELECT\n",
    "  product_category,\n",
    "  loyalty_segment,\n",
    "  total_price\n",
    "FROM\n",
    "  sales\n",
    "  JOIN customers \n",
    "  on sales.customer_id = customers.customer_id  "
   ]
  }
 ],
 "metadata": {
  "application/vnd.databricks.v1+notebook": {
   "computePreferences": null,
   "dashboards": [],
   "environmentMetadata": null,
   "language": "sql",
   "notebookMetadata": {
    "sqlQueryOptions": {
     "applyAutoLimit": true,
     "catalog": "labuser9215760_1740409368",
     "schema": "default"
    }
   },
   "notebookName": "09  Sales by Loyalty Segment.dbquery.ipynb",
   "widgets": {}
  },
  "language_info": {
   "name": "sql"
  }
 },
 "nbformat": 4,
 "nbformat_minor": 0
}
