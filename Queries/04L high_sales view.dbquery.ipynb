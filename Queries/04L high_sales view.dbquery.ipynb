{
 "cells": [
  {
   "cell_type": "code",
   "execution_count": 0,
   "metadata": {
    "application/vnd.databricks.v1+cell": {
     "cellMetadata": {},
     "inputWidgets": {},
     "nuid": "d4c9446e-6933-4ea4-9d72-cf2d55e803cf",
     "showTitle": false,
     "tableResultSettingsMap": {},
     "title": ""
    }
   },
   "outputs": [],
   "source": [
    "CREATE OR REPLACE VIEW high_sales AS\n",
    "SELECT\n",
    "  *\n",
    "FROM\n",
    "  sales\n",
    "WHERE\n",
    "  total_price > 10000;\n",
    "\n",
    "\n",
    "SELECT\n",
    "  *\n",
    "FROM\n",
    "  high_sales;"
   ]
  }
 ],
 "metadata": {
  "application/vnd.databricks.v1+notebook": {
   "computePreferences": null,
   "dashboards": [],
   "environmentMetadata": null,
   "language": "sql",
   "notebookMetadata": {
    "pythonIndentUnit": 4,
    "sqlQueryOptions": {
     "applyAutoLimit": false,
     "catalog": "demo-catalog-us-west-2",
     "schema": "default"
    }
   },
   "notebookName": "04L high_sales view.dbquery.ipynb",
   "widgets": {}
  },
  "language_info": {
   "name": "sql"
  }
 },
 "nbformat": 4,
 "nbformat_minor": 0
}
