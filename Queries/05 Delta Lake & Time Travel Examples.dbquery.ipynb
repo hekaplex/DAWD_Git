{
 "cells": [
  {
   "cell_type": "code",
   "execution_count": 0,
   "metadata": {
    "application/vnd.databricks.v1+cell": {
     "cellMetadata": {
      "byteLimit": 10485760,
      "rowLimit": 64000
     },
     "inputWidgets": {},
     "nuid": "af4e9b55-776e-4785-8c10-64ec0470a957",
     "showTitle": false,
     "tableResultSettingsMap": {},
     "title": ""
    }
   },
   "outputs": [],
   "source": [
    "DESCRIBE HISTORY customers;\n",
    "\n",
    "\n",
    "SELECT DISTINCT\n",
    "  loyalty_segment\n",
    "FROM\n",
    "  customers;\n",
    "\n",
    "UPDATE\n",
    "  customers\n",
    "SET\n",
    "  loyalty_segment = 10\n",
    "WHERE\n",
    "  loyalty_segment = 0;\n",
    "\n",
    "UPDATE\n",
    "  customers\n",
    "SET\n",
    "  loyalty_segment = 0\n",
    "WHERE\n",
    "  loyalty_segment = 10;\n",
    "\n",
    "DESCRIBE HISTORY customers;\n",
    "\n",
    "--Three syntaxes\n",
    "SELECT\n",
    "  distinct loyalty_segment\n",
    "FROM\n",
    "  customers VERSION AS OF 1;\n",
    "\n",
    "SELECT distinct\n",
    "  loyalty_segment\n",
    "FROM\n",
    "  customers@v0;\n",
    "\n",
    "SELECT\n",
    "  distinct loyalty_segment\n",
    "FROM\n",
    "  customers TIMESTAMP AS OF '2025-02-20T20:07:18.000' --RESTORE\n",
    "SELECT\n",
    "  distinct loyalty_segment\n",
    "FROM\n",
    "  customers;\n",
    "\n",
    "--RESTORE\n",
    "RESTORE TABLE customers TO VERSION AS OF 1;\n",
    "\n",
    "SELECT DISTINCT loyalty_segment from customers;\n",
    "\n",
    "DESCRIBE HISTORY customers;"
   ]
  }
 ],
 "metadata": {
  "application/vnd.databricks.v1+notebook": {
   "computePreferences": null,
   "dashboards": [],
   "environmentMetadata": null,
   "language": "sql",
   "notebookMetadata": {
    "pythonIndentUnit": 4,
    "sqlQueryOptions": {
     "applyAutoLimit": false,
     "catalog": "labuser9215760_1740409368",
     "schema": "default"
    }
   },
   "notebookName": "05 Delta Lake & Time Travel Examples.dbquery.ipynb",
   "widgets": {}
  },
  "language_info": {
   "name": "sql"
  }
 },
 "nbformat": 4,
 "nbformat_minor": 0
}
