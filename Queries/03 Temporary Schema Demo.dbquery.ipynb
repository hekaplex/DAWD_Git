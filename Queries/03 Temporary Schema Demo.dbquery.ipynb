{
 "cells": [
  {
   "cell_type": "code",
   "execution_count": 0,
   "metadata": {
    "application/vnd.databricks.v1+cell": {
     "cellMetadata": {},
     "inputWidgets": {},
     "nuid": "96963695-568c-4992-8c17-cd69aff54c3c",
     "showTitle": false,
     "tableResultSettingsMap": {},
     "title": ""
    }
   },
   "outputs": [],
   "source": [
    "DROP SCHEMA IF EXISTS temporary_schema CASCADE;\n",
    "\n",
    "CREATE SCHEMA IF NOT EXISTS temporary_schema;\n",
    "\n",
    "CREATE OR REPLACE TABLE temporary_schema.simple_table(width INT, length INT, height INT);\n",
    "\n",
    "INSERT INTO\n",
    "  temporary_schema.simple_table\n",
    "VALUES (3, 2, 1);\n",
    "\n",
    "SELECT\n",
    "  *\n",
    "FROM\n",
    "  temporary_schema.simple_table;\n",
    "\n",
    "DESCRIBE temporary_schema.simple_table;\n",
    "\n",
    "DESCRIBE DETAIL temporary_schema.simple_table;\n",
    "\n",
    "DESCRIBE EXTENDED temporary_schema.simple_table;\n",
    "\n",
    "DESCRIBE HISTORY temporary_schema.simple_table;"
   ]
  }
 ],
 "metadata": {
  "application/vnd.databricks.v1+notebook": {
   "computePreferences": null,
   "dashboards": [],
   "environmentMetadata": null,
   "language": "sql",
   "notebookMetadata": {
    "pythonIndentUnit": 4,
    "sqlQueryOptions": {
     "applyAutoLimit": true,
     "catalog": "dbacademy",
     "schema": "information_schema"
    }
   },
   "notebookName": "03 Temporary Schema Demo.dbquery.ipynb",
   "widgets": {}
  },
  "language_info": {
   "name": "sql"
  }
 },
 "nbformat": 4,
 "nbformat_minor": 0
}
